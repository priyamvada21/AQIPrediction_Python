{
  "nbformat": 4,
  "nbformat_minor": 0,
  "metadata": {
    "colab": {
      "provenance": []
    },
    "kernelspec": {
      "name": "python3",
      "display_name": "Python 3"
    },
    "language_info": {
      "name": "python"
    }
  },
  "cells": [
    {
      "cell_type": "code",
      "metadata": {
        "id": "jjmu1oIZdN9k"
      },
      "source": [
        "from google.colab import drive\n",
        "drive.mount('/content/drive')"
      ],
      "execution_count": null,
      "outputs": []
    },
    {
      "cell_type": "code",
      "source": [],
      "metadata": {
        "id": "8SPLvE4StTZv"
      },
      "execution_count": null,
      "outputs": []
    },
    {
      "cell_type": "code",
      "metadata": {
        "colab": {
          "base_uri": "https://localhost:8080/"
        },
        "id": "oixDuS1wiHPe",
        "outputId": "8107ae80-5d3c-4856-fd9f-fd8d1c6b6b86"
      },
      "source": [
        "! mkdir ~/.kaggle\n",
        "! cp /content/drive/MyDrive/Kaggle/kaggle.json ~/.kaggle/\n",
        "! chmod 600 ~/.kaggle/kaggle.json\n",
        "! kaggle datasets download rohanrao/air-quality-data-in-india\n",
        "! unzip air-quality-data-in-india.zip"
      ],
      "execution_count": null,
      "outputs": [
        {
          "output_type": "stream",
          "name": "stdout",
          "text": [
            "mkdir: cannot create directory ‘/root/.kaggle’: File exists\n",
            "air-quality-data-in-india.zip: Skipping, found more recently modified local copy (use --force to force download)\n",
            "Archive:  air-quality-data-in-india.zip\n",
            "replace city_day.csv? [y]es, [n]o, [A]ll, [N]one, [r]ename: N\n"
          ]
        }
      ]
    },
    {
      "cell_type": "code",
      "metadata": {
        "id": "6fC43a-LkIZX"
      },
      "source": [
        "import os\n",
        "import time\n",
        "import requests\n",
        "import sys\n",
        "import pandas as pd\n",
        "import matplotlib.pyplot as plt\n",
        "from bs4 import BeautifulSoup\n",
        "import csv"
      ],
      "execution_count": null,
      "outputs": []
    },
    {
      "cell_type": "code",
      "metadata": {
        "id": "7qg2Knzzx8it",
        "colab": {
          "base_uri": "https://localhost:8080/",
          "height": 423
        },
        "outputId": "79c87521-7632-49a3-8315-f29c5b0512aa"
      },
      "source": [
        "aqi_data=pd.read_csv(\"city_day.csv\")\n",
        "aqi_data=aqi_data[aqi_data['City']==\"Delhi\"]\n",
        "aqi_data.reset_index(inplace=True)\n",
        "aqi_data=aqi_data.iloc[:1826]\n",
        "aqi_data.drop(labels=\"index\",axis=1,inplace=True)\n",
        "aqi_data\n"
      ],
      "execution_count": null,
      "outputs": [
        {
          "output_type": "execute_result",
          "data": {
            "text/html": [
              "\n",
              "  <div id=\"df-f2c61b1f-87dc-4e23-8466-1027351e892c\">\n",
              "    <div class=\"colab-df-container\">\n",
              "      <div>\n",
              "<style scoped>\n",
              "    .dataframe tbody tr th:only-of-type {\n",
              "        vertical-align: middle;\n",
              "    }\n",
              "\n",
              "    .dataframe tbody tr th {\n",
              "        vertical-align: top;\n",
              "    }\n",
              "\n",
              "    .dataframe thead th {\n",
              "        text-align: right;\n",
              "    }\n",
              "</style>\n",
              "<table border=\"1\" class=\"dataframe\">\n",
              "  <thead>\n",
              "    <tr style=\"text-align: right;\">\n",
              "      <th></th>\n",
              "      <th>City</th>\n",
              "      <th>Date</th>\n",
              "      <th>PM2.5</th>\n",
              "      <th>PM10</th>\n",
              "      <th>NO</th>\n",
              "      <th>NO2</th>\n",
              "      <th>NOx</th>\n",
              "      <th>NH3</th>\n",
              "      <th>CO</th>\n",
              "      <th>SO2</th>\n",
              "      <th>O3</th>\n",
              "      <th>Benzene</th>\n",
              "      <th>Toluene</th>\n",
              "      <th>Xylene</th>\n",
              "      <th>AQI</th>\n",
              "      <th>AQI_Bucket</th>\n",
              "    </tr>\n",
              "  </thead>\n",
              "  <tbody>\n",
              "    <tr>\n",
              "      <th>0</th>\n",
              "      <td>Delhi</td>\n",
              "      <td>2015-01-01</td>\n",
              "      <td>313.22</td>\n",
              "      <td>607.98</td>\n",
              "      <td>69.16</td>\n",
              "      <td>36.39</td>\n",
              "      <td>110.59</td>\n",
              "      <td>33.85</td>\n",
              "      <td>15.20</td>\n",
              "      <td>9.25</td>\n",
              "      <td>41.68</td>\n",
              "      <td>14.36</td>\n",
              "      <td>24.86</td>\n",
              "      <td>9.84</td>\n",
              "      <td>472.0</td>\n",
              "      <td>Severe</td>\n",
              "    </tr>\n",
              "    <tr>\n",
              "      <th>1</th>\n",
              "      <td>Delhi</td>\n",
              "      <td>2015-01-02</td>\n",
              "      <td>186.18</td>\n",
              "      <td>269.55</td>\n",
              "      <td>62.09</td>\n",
              "      <td>32.87</td>\n",
              "      <td>88.14</td>\n",
              "      <td>31.83</td>\n",
              "      <td>9.54</td>\n",
              "      <td>6.65</td>\n",
              "      <td>29.97</td>\n",
              "      <td>10.55</td>\n",
              "      <td>20.09</td>\n",
              "      <td>4.29</td>\n",
              "      <td>454.0</td>\n",
              "      <td>Severe</td>\n",
              "    </tr>\n",
              "    <tr>\n",
              "      <th>2</th>\n",
              "      <td>Delhi</td>\n",
              "      <td>2015-01-03</td>\n",
              "      <td>87.18</td>\n",
              "      <td>131.90</td>\n",
              "      <td>25.73</td>\n",
              "      <td>30.31</td>\n",
              "      <td>47.95</td>\n",
              "      <td>69.55</td>\n",
              "      <td>10.61</td>\n",
              "      <td>2.65</td>\n",
              "      <td>19.71</td>\n",
              "      <td>3.91</td>\n",
              "      <td>10.23</td>\n",
              "      <td>1.99</td>\n",
              "      <td>143.0</td>\n",
              "      <td>Moderate</td>\n",
              "    </tr>\n",
              "    <tr>\n",
              "      <th>3</th>\n",
              "      <td>Delhi</td>\n",
              "      <td>2015-01-04</td>\n",
              "      <td>151.84</td>\n",
              "      <td>241.84</td>\n",
              "      <td>25.01</td>\n",
              "      <td>36.91</td>\n",
              "      <td>48.62</td>\n",
              "      <td>130.36</td>\n",
              "      <td>11.54</td>\n",
              "      <td>4.63</td>\n",
              "      <td>25.36</td>\n",
              "      <td>4.26</td>\n",
              "      <td>9.71</td>\n",
              "      <td>3.34</td>\n",
              "      <td>319.0</td>\n",
              "      <td>Very Poor</td>\n",
              "    </tr>\n",
              "    <tr>\n",
              "      <th>4</th>\n",
              "      <td>Delhi</td>\n",
              "      <td>2015-01-05</td>\n",
              "      <td>146.60</td>\n",
              "      <td>219.13</td>\n",
              "      <td>14.01</td>\n",
              "      <td>34.92</td>\n",
              "      <td>38.25</td>\n",
              "      <td>122.88</td>\n",
              "      <td>9.20</td>\n",
              "      <td>3.33</td>\n",
              "      <td>23.20</td>\n",
              "      <td>2.80</td>\n",
              "      <td>6.21</td>\n",
              "      <td>2.96</td>\n",
              "      <td>325.0</td>\n",
              "      <td>Very Poor</td>\n",
              "    </tr>\n",
              "    <tr>\n",
              "      <th>...</th>\n",
              "      <td>...</td>\n",
              "      <td>...</td>\n",
              "      <td>...</td>\n",
              "      <td>...</td>\n",
              "      <td>...</td>\n",
              "      <td>...</td>\n",
              "      <td>...</td>\n",
              "      <td>...</td>\n",
              "      <td>...</td>\n",
              "      <td>...</td>\n",
              "      <td>...</td>\n",
              "      <td>...</td>\n",
              "      <td>...</td>\n",
              "      <td>...</td>\n",
              "      <td>...</td>\n",
              "      <td>...</td>\n",
              "    </tr>\n",
              "    <tr>\n",
              "      <th>1821</th>\n",
              "      <td>Delhi</td>\n",
              "      <td>2019-12-27</td>\n",
              "      <td>240.07</td>\n",
              "      <td>371.45</td>\n",
              "      <td>28.66</td>\n",
              "      <td>54.60</td>\n",
              "      <td>54.95</td>\n",
              "      <td>52.64</td>\n",
              "      <td>1.39</td>\n",
              "      <td>7.88</td>\n",
              "      <td>27.55</td>\n",
              "      <td>4.62</td>\n",
              "      <td>32.86</td>\n",
              "      <td>0.20</td>\n",
              "      <td>372.0</td>\n",
              "      <td>Very Poor</td>\n",
              "    </tr>\n",
              "    <tr>\n",
              "      <th>1822</th>\n",
              "      <td>Delhi</td>\n",
              "      <td>2019-12-28</td>\n",
              "      <td>275.60</td>\n",
              "      <td>426.12</td>\n",
              "      <td>60.13</td>\n",
              "      <td>55.98</td>\n",
              "      <td>83.47</td>\n",
              "      <td>50.47</td>\n",
              "      <td>1.96</td>\n",
              "      <td>10.26</td>\n",
              "      <td>27.92</td>\n",
              "      <td>6.70</td>\n",
              "      <td>39.22</td>\n",
              "      <td>0.40</td>\n",
              "      <td>425.0</td>\n",
              "      <td>Severe</td>\n",
              "    </tr>\n",
              "    <tr>\n",
              "      <th>1823</th>\n",
              "      <td>Delhi</td>\n",
              "      <td>2019-12-29</td>\n",
              "      <td>326.79</td>\n",
              "      <td>500.15</td>\n",
              "      <td>32.73</td>\n",
              "      <td>57.76</td>\n",
              "      <td>61.51</td>\n",
              "      <td>49.61</td>\n",
              "      <td>1.86</td>\n",
              "      <td>10.25</td>\n",
              "      <td>35.11</td>\n",
              "      <td>6.28</td>\n",
              "      <td>33.00</td>\n",
              "      <td>0.34</td>\n",
              "      <td>455.0</td>\n",
              "      <td>Severe</td>\n",
              "    </tr>\n",
              "    <tr>\n",
              "      <th>1824</th>\n",
              "      <td>Delhi</td>\n",
              "      <td>2019-12-30</td>\n",
              "      <td>333.43</td>\n",
              "      <td>486.35</td>\n",
              "      <td>54.97</td>\n",
              "      <td>55.61</td>\n",
              "      <td>79.04</td>\n",
              "      <td>50.75</td>\n",
              "      <td>2.24</td>\n",
              "      <td>11.15</td>\n",
              "      <td>26.44</td>\n",
              "      <td>8.00</td>\n",
              "      <td>47.12</td>\n",
              "      <td>0.72</td>\n",
              "      <td>506.0</td>\n",
              "      <td>Severe</td>\n",
              "    </tr>\n",
              "    <tr>\n",
              "      <th>1825</th>\n",
              "      <td>Delhi</td>\n",
              "      <td>2019-12-31</td>\n",
              "      <td>245.53</td>\n",
              "      <td>338.18</td>\n",
              "      <td>44.49</td>\n",
              "      <td>47.50</td>\n",
              "      <td>64.57</td>\n",
              "      <td>48.22</td>\n",
              "      <td>1.80</td>\n",
              "      <td>11.03</td>\n",
              "      <td>28.07</td>\n",
              "      <td>4.81</td>\n",
              "      <td>38.40</td>\n",
              "      <td>0.22</td>\n",
              "      <td>417.0</td>\n",
              "      <td>Severe</td>\n",
              "    </tr>\n",
              "  </tbody>\n",
              "</table>\n",
              "<p>1826 rows × 16 columns</p>\n",
              "</div>\n",
              "      <button class=\"colab-df-convert\" onclick=\"convertToInteractive('df-f2c61b1f-87dc-4e23-8466-1027351e892c')\"\n",
              "              title=\"Convert this dataframe to an interactive table.\"\n",
              "              style=\"display:none;\">\n",
              "        \n",
              "  <svg xmlns=\"http://www.w3.org/2000/svg\" height=\"24px\"viewBox=\"0 0 24 24\"\n",
              "       width=\"24px\">\n",
              "    <path d=\"M0 0h24v24H0V0z\" fill=\"none\"/>\n",
              "    <path d=\"M18.56 5.44l.94 2.06.94-2.06 2.06-.94-2.06-.94-.94-2.06-.94 2.06-2.06.94zm-11 1L8.5 8.5l.94-2.06 2.06-.94-2.06-.94L8.5 2.5l-.94 2.06-2.06.94zm10 10l.94 2.06.94-2.06 2.06-.94-2.06-.94-.94-2.06-.94 2.06-2.06.94z\"/><path d=\"M17.41 7.96l-1.37-1.37c-.4-.4-.92-.59-1.43-.59-.52 0-1.04.2-1.43.59L10.3 9.45l-7.72 7.72c-.78.78-.78 2.05 0 2.83L4 21.41c.39.39.9.59 1.41.59.51 0 1.02-.2 1.41-.59l7.78-7.78 2.81-2.81c.8-.78.8-2.07 0-2.86zM5.41 20L4 18.59l7.72-7.72 1.47 1.35L5.41 20z\"/>\n",
              "  </svg>\n",
              "      </button>\n",
              "      \n",
              "  <style>\n",
              "    .colab-df-container {\n",
              "      display:flex;\n",
              "      flex-wrap:wrap;\n",
              "      gap: 12px;\n",
              "    }\n",
              "\n",
              "    .colab-df-convert {\n",
              "      background-color: #E8F0FE;\n",
              "      border: none;\n",
              "      border-radius: 50%;\n",
              "      cursor: pointer;\n",
              "      display: none;\n",
              "      fill: #1967D2;\n",
              "      height: 32px;\n",
              "      padding: 0 0 0 0;\n",
              "      width: 32px;\n",
              "    }\n",
              "\n",
              "    .colab-df-convert:hover {\n",
              "      background-color: #E2EBFA;\n",
              "      box-shadow: 0px 1px 2px rgba(60, 64, 67, 0.3), 0px 1px 3px 1px rgba(60, 64, 67, 0.15);\n",
              "      fill: #174EA6;\n",
              "    }\n",
              "\n",
              "    [theme=dark] .colab-df-convert {\n",
              "      background-color: #3B4455;\n",
              "      fill: #D2E3FC;\n",
              "    }\n",
              "\n",
              "    [theme=dark] .colab-df-convert:hover {\n",
              "      background-color: #434B5C;\n",
              "      box-shadow: 0px 1px 3px 1px rgba(0, 0, 0, 0.15);\n",
              "      filter: drop-shadow(0px 1px 2px rgba(0, 0, 0, 0.3));\n",
              "      fill: #FFFFFF;\n",
              "    }\n",
              "  </style>\n",
              "\n",
              "      <script>\n",
              "        const buttonEl =\n",
              "          document.querySelector('#df-f2c61b1f-87dc-4e23-8466-1027351e892c button.colab-df-convert');\n",
              "        buttonEl.style.display =\n",
              "          google.colab.kernel.accessAllowed ? 'block' : 'none';\n",
              "\n",
              "        async function convertToInteractive(key) {\n",
              "          const element = document.querySelector('#df-f2c61b1f-87dc-4e23-8466-1027351e892c');\n",
              "          const dataTable =\n",
              "            await google.colab.kernel.invokeFunction('convertToInteractive',\n",
              "                                                     [key], {});\n",
              "          if (!dataTable) return;\n",
              "\n",
              "          const docLinkHtml = 'Like what you see? Visit the ' +\n",
              "            '<a target=\"_blank\" href=https://colab.research.google.com/notebooks/data_table.ipynb>data table notebook</a>'\n",
              "            + ' to learn more about interactive tables.';\n",
              "          element.innerHTML = '';\n",
              "          dataTable['output_type'] = 'display_data';\n",
              "          await google.colab.output.renderOutput(dataTable, element);\n",
              "          const docLink = document.createElement('div');\n",
              "          docLink.innerHTML = docLinkHtml;\n",
              "          element.appendChild(docLink);\n",
              "        }\n",
              "      </script>\n",
              "    </div>\n",
              "  </div>\n",
              "  "
            ],
            "text/plain": [
              "       City        Date   PM2.5    PM10  ...  Toluene  Xylene    AQI  AQI_Bucket\n",
              "0     Delhi  2015-01-01  313.22  607.98  ...    24.86    9.84  472.0      Severe\n",
              "1     Delhi  2015-01-02  186.18  269.55  ...    20.09    4.29  454.0      Severe\n",
              "2     Delhi  2015-01-03   87.18  131.90  ...    10.23    1.99  143.0    Moderate\n",
              "3     Delhi  2015-01-04  151.84  241.84  ...     9.71    3.34  319.0   Very Poor\n",
              "4     Delhi  2015-01-05  146.60  219.13  ...     6.21    2.96  325.0   Very Poor\n",
              "...     ...         ...     ...     ...  ...      ...     ...    ...         ...\n",
              "1821  Delhi  2019-12-27  240.07  371.45  ...    32.86    0.20  372.0   Very Poor\n",
              "1822  Delhi  2019-12-28  275.60  426.12  ...    39.22    0.40  425.0      Severe\n",
              "1823  Delhi  2019-12-29  326.79  500.15  ...    33.00    0.34  455.0      Severe\n",
              "1824  Delhi  2019-12-30  333.43  486.35  ...    47.12    0.72  506.0      Severe\n",
              "1825  Delhi  2019-12-31  245.53  338.18  ...    38.40    0.22  417.0      Severe\n",
              "\n",
              "[1826 rows x 16 columns]"
            ]
          },
          "metadata": {},
          "execution_count": 33
        }
      ]
    },
    {
      "cell_type": "code",
      "metadata": {
        "id": "tiABTM-slqFM"
      },
      "source": [
        "def retrieve_html():\n",
        "    for year in range(2015,2020):\n",
        "        for month in range(1,13):\n",
        "            if(month<10):\n",
        "                url=f\"http://en.tutiempo.net/climate/0{month}-{year}/ws-421820.html\"\n",
        "            else:\n",
        "                url=f\"http://en.tutiempo.net/climate/{month}-{year}/ws-421820.html\"\n",
        "            texts=requests.get(url)\n",
        "            text_utf=texts.text.encode('utf=8')\n",
        "\n",
        "            if not os.path.exists(f\"/content/drive/MyDrive/AQI_Priyamvada/Data/Html_Data/{year}\"):\n",
        "                os.makedirs(f\"/content/drive/MyDrive/AQI_Priyamvada/Data/Html_Data/{year}\")\n",
        "            with open(f\"/content/drive/MyDrive/AQI_Priyamvada/Data/Html_Data/{year}/{month}.html\",\"wb\") as output:\n",
        "                output.write(text_utf)\n",
        "\n",
        "        sys.stdout.flush()"
      ],
      "execution_count": null,
      "outputs": []
    },
    {
      "cell_type": "code",
      "metadata": {
        "id": "SOPTCHAdn-6J"
      },
      "source": [
        "# start_time=time.time()\n",
        "\n",
        "# retrieve_html()\n",
        "\n",
        "# stop_time=time.time()\n",
        "# print(f\"Time taken {stop_time-start_time}\")"
      ],
      "execution_count": null,
      "outputs": []
    },
    {
      "cell_type": "code",
      "metadata": {
        "id": "tn_L8565yhW4"
      },
      "source": [
        "# def avg_data():\n",
        "#   year_data={}\n",
        "#   for year in range(2015,2020):\n",
        "#     # temp_i=0\n",
        "#     average=[]\n",
        "#     for rows in pd.read_csv(f'/content/drive/MyDrive/AQI_Priyamvada/Data/AQI/aqi{year}.csv',chunksize=24):\n",
        "#         add_var=0\n",
        "#         avg=0.0\n",
        "#         data=[]\n",
        "#         counter=0\n",
        "#         df=pd.DataFrame(data=rows)\n",
        "#         for index,row in df.iterrows():\n",
        "#             data.append(row['PM2.5'])\n",
        "#         for i in data:\n",
        "#             if type(i) is float or type(i) is int:\n",
        "#                 add_var=add_var+i\n",
        "#                 counter=counter+1\n",
        "#             elif type(i) is str:\n",
        "#                 if i!='NoData' and i!='PwrFail' and i!='---' and i!='InVld':\n",
        "#                     temp=float(i)\n",
        "#                     add_var=add_var+temp\n",
        "#                     counter=counter+1\n",
        "#         if counter!=0:\n",
        "#           avg=add_var/counter\n",
        "#         else:\n",
        "#           avg=add_var\n",
        "#         # temp_i=temp_i+1\n",
        "\n",
        "#         average.append(avg)\n",
        "#     year_data.update({year:average})\n",
        "#   return year_data\n",
        "# year_data=avg_data()\n",
        "# len(avg_data())\n",
        "# year_data.keys()\n",
        "# len(year_data.get(2018))\n",
        "# lst2013=year_data.get(2015)\n",
        "# lst2014=year_data.get(2016)\n",
        "# lst2015=year_data.get(2017)\n",
        "# lst2016=year_data.get(2018)\n",
        "# lst2017=year_data.get(2019)\n",
        "# plt.plot(range(0,365),lst2013,label=\"2013 data\")\n",
        "# plt.plot(range(0,364),lst2014,label=\"2014 data\")\n",
        "# plt.plot(range(0,365),lst2015,label=\"2015 data\")\n",
        "# plt.plot(range(0,365),lst2016,label=\"2016 data\")\n",
        "# plt.xlabel('Day')\n",
        "# plt.ylabel('PM 2.5')\n",
        "# plt.legend(loc='upper right')\n",
        "# plt.savefig('plots.png')\n",
        "# plt.show()"
      ],
      "execution_count": null,
      "outputs": []
    },
    {
      "cell_type": "code",
      "metadata": {
        "id": "J91Iln3YYs9B",
        "colab": {
          "base_uri": "https://localhost:8080/"
        },
        "outputId": "5cec6f95-208b-42ea-dba0-3e0f95734730"
      },
      "source": [
        "names=['Day', 'T', 'TM', 'Tm','SLP','H','PP','VV','V','VM','VG','RA','SN','TS','FG']\n",
        "names"
      ],
      "execution_count": null,
      "outputs": [
        {
          "output_type": "execute_result",
          "data": {
            "text/plain": [
              "['Day',\n",
              " 'T',\n",
              " 'TM',\n",
              " 'Tm',\n",
              " 'SLP',\n",
              " 'H',\n",
              " 'PP',\n",
              " 'VV',\n",
              " 'V',\n",
              " 'VM',\n",
              " 'VG',\n",
              " 'RA',\n",
              " 'SN',\n",
              " 'TS',\n",
              " 'FG']"
            ]
          },
          "metadata": {},
          "execution_count": 37
        }
      ]
    },
    {
      "cell_type": "code",
      "metadata": {
        "id": "0BqoK_CMCgUG"
      },
      "source": [
        "# counter=0\n",
        "# df=pd.DataFrame(columns=names)\n",
        "# for month in range(1,13):\n",
        "#   file_html = open(f'/content/drive/MyDrive/AQI_Priyamvada/Data/Html_Data/2013/{month}.html', 'rb')\n",
        "#   plain_text = file_html.read()\n",
        "#   tempD = []\n",
        "#   soup = BeautifulSoup(plain_text, \"lxml\")\n",
        "\n",
        "#   for table in soup.findAll('table', {'class': 'medias mensuales numspan'}):\n",
        "#     for tbody in table:\n",
        "#       for tr in tbody:\n",
        "#         a = tr.get_text()\n",
        "#         tempD.append(a)\n",
        "\n",
        "#   tempD=tempD[:-16]\n",
        "#   tempD\n",
        "#   n=15\n",
        "#   for i in range(round(len(tempD)/15)-1):\n",
        "#     listt=tempD[n:n+15]\n",
        "#     df.loc[counter] = listt\n",
        "#     n=n+15\n",
        "#     counter=counter+1\n",
        "\n",
        "# df.drop(['Day', 'PP', 'VG', 'RA', 'SN', 'TS', 'FG'], axis = 1, inplace=True)\n",
        "# df['PM 2.5']=year_data.get(2013)"
      ],
      "execution_count": null,
      "outputs": []
    },
    {
      "cell_type": "code",
      "metadata": {
        "id": "255Q_d-WZQDo"
      },
      "source": [
        "counter=0\n",
        "df=pd.DataFrame(columns=names)\n",
        "for year in range(2015,2020):\n",
        "  for month in range(1,13):\n",
        "    file_html = open(f'/content/drive/MyDrive/AQI_Priyamvada/Data/Html_Data/{year}/{month}.html', 'rb')\n",
        "    plain_text = file_html.read()\n",
        "    tempD = []\n",
        "    soup = BeautifulSoup(plain_text, \"lxml\")\n",
        "\n",
        "    for table in soup.findAll('table', {'class': 'medias mensuales numspan'}):\n",
        "      for tbody in table:\n",
        "        for tr in tbody:\n",
        "          a = tr.get_text()\n",
        "          tempD.append(a)\n",
        "\n",
        "    tempD=tempD[:-16]\n",
        "    tempD\n",
        "    n=15\n",
        "    for i in range(round(len(tempD)/15)-1):\n",
        "      listt=tempD[n:n+15]\n",
        "      df.loc[counter] = listt\n",
        "      n=n+15\n",
        "      counter=counter+1\n",
        "  # df['PM 2.5']=year_data.get(year)\n",
        "\n",
        "df.drop(['Day', 'PP', 'VG', 'RAbeu', 'SN', 'TS', 'FG'], axis = 1, inplace=True)"
      ],
      "execution_count": null,
      "outputs": []
    },
    {
      "cell_type": "code",
      "metadata": {
        "id": "fi8YzNBVXwbK"
      },
      "source": [
        "# year_total=list"
      ],
      "execution_count": null,
      "outputs": []
    },
    {
      "cell_type": "code",
      "metadata": {
        "id": "D9L6f6K44Ow-"
      },
      "source": [
        "df[\"PM2.5\"]=aqi_data[\"PM2.5\"]"
      ],
      "execution_count": null,
      "outputs": []
    },
    {
      "cell_type": "code",
      "metadata": {
        "id": "1nc4sKcVzrKU"
      },
      "source": [
        "df.to_csv(\"Complete_dataframe.csv\")"
      ],
      "execution_count": null,
      "outputs": []
    },
    {
      "cell_type": "code",
      "metadata": {
        "id": "irLae9Z9iKKr"
      },
      "source": [
        "# pp=0\n",
        "# for (columnName, columnData) in mf.iteritems():\n",
        "#   pp=pp+1\n",
        "#   print(pp)\n",
        "\n",
        "# (len(mf[columnName][i])==0)\n",
        "# mf[columnName][i]=='' or mf[columnName][i]=='-':"
      ],
      "execution_count": null,
      "outputs": []
    },
    {
      "cell_type": "code",
      "metadata": {
        "colab": {
          "base_uri": "https://localhost:8080/",
          "height": 423
        },
        "id": "Xe3LrSj0PrPM",
        "outputId": "c267256b-4945-4f86-85fb-cd41152d546d"
      },
      "source": [
        "mf=df.copy()\n",
        "mf.reset_index(inplace=True,drop=False)\n",
        "mf.reset_index(inplace=True,drop=True)\n",
        "# mf.reset_index(inplace=True)"
      ],
      "execution_count": null,
      "outputs": [
        {
          "output_type": "execute_result",
          "data": {
            "text/html": [
              "\n",
              "  <div id=\"df-8b781048-6a7a-4c6d-994d-a894000579fa\">\n",
              "    <div class=\"colab-df-container\">\n",
              "      <div>\n",
              "<style scoped>\n",
              "    .dataframe tbody tr th:only-of-type {\n",
              "        vertical-align: middle;\n",
              "    }\n",
              "\n",
              "    .dataframe tbody tr th {\n",
              "        vertical-align: top;\n",
              "    }\n",
              "\n",
              "    .dataframe thead th {\n",
              "        text-align: right;\n",
              "    }\n",
              "</style>\n",
              "<table border=\"1\" class=\"dataframe\">\n",
              "  <thead>\n",
              "    <tr style=\"text-align: right;\">\n",
              "      <th></th>\n",
              "      <th>index</th>\n",
              "      <th>T</th>\n",
              "      <th>TM</th>\n",
              "      <th>Tm</th>\n",
              "      <th>SLP</th>\n",
              "      <th>H</th>\n",
              "      <th>VV</th>\n",
              "      <th>V</th>\n",
              "      <th>VM</th>\n",
              "      <th>PM2.5</th>\n",
              "    </tr>\n",
              "  </thead>\n",
              "  <tbody>\n",
              "    <tr>\n",
              "      <th>0</th>\n",
              "      <td>0</td>\n",
              "      <td>14.9</td>\n",
              "      <td>21.6</td>\n",
              "      <td>8.8</td>\n",
              "      <td>1017.4</td>\n",
              "      <td>76</td>\n",
              "      <td>0.8</td>\n",
              "      <td>0.9</td>\n",
              "      <td>7.6</td>\n",
              "      <td>313.22</td>\n",
              "    </tr>\n",
              "    <tr>\n",
              "      <th>1</th>\n",
              "      <td>1</td>\n",
              "      <td>14.7</td>\n",
              "      <td>21.6</td>\n",
              "      <td>10.2</td>\n",
              "      <td>1018.1</td>\n",
              "      <td>97</td>\n",
              "      <td>0.6</td>\n",
              "      <td>3.1</td>\n",
              "      <td>9.4</td>\n",
              "      <td>186.18</td>\n",
              "    </tr>\n",
              "    <tr>\n",
              "      <th>2</th>\n",
              "      <td>2</td>\n",
              "      <td>15</td>\n",
              "      <td>16.8</td>\n",
              "      <td>13.6</td>\n",
              "      <td>1017.5</td>\n",
              "      <td>94</td>\n",
              "      <td>0.5</td>\n",
              "      <td>0.9</td>\n",
              "      <td>7.6</td>\n",
              "      <td>87.18</td>\n",
              "    </tr>\n",
              "    <tr>\n",
              "      <th>3</th>\n",
              "      <td>3</td>\n",
              "      <td></td>\n",
              "      <td></td>\n",
              "      <td></td>\n",
              "      <td></td>\n",
              "      <td></td>\n",
              "      <td></td>\n",
              "      <td></td>\n",
              "      <td></td>\n",
              "      <td>151.84</td>\n",
              "    </tr>\n",
              "    <tr>\n",
              "      <th>4</th>\n",
              "      <td>4</td>\n",
              "      <td></td>\n",
              "      <td></td>\n",
              "      <td></td>\n",
              "      <td></td>\n",
              "      <td></td>\n",
              "      <td></td>\n",
              "      <td></td>\n",
              "      <td></td>\n",
              "      <td>146.60</td>\n",
              "    </tr>\n",
              "    <tr>\n",
              "      <th>...</th>\n",
              "      <td>...</td>\n",
              "      <td>...</td>\n",
              "      <td>...</td>\n",
              "      <td>...</td>\n",
              "      <td>...</td>\n",
              "      <td>...</td>\n",
              "      <td>...</td>\n",
              "      <td>...</td>\n",
              "      <td>...</td>\n",
              "      <td>...</td>\n",
              "    </tr>\n",
              "    <tr>\n",
              "      <th>1821</th>\n",
              "      <td>1821</td>\n",
              "      <td>8.6</td>\n",
              "      <td>13.6</td>\n",
              "      <td>4.2</td>\n",
              "      <td>1019.6</td>\n",
              "      <td>83</td>\n",
              "      <td>0.6</td>\n",
              "      <td>3.3</td>\n",
              "      <td>7.6</td>\n",
              "      <td>240.07</td>\n",
              "    </tr>\n",
              "    <tr>\n",
              "      <th>1822</th>\n",
              "      <td>1822</td>\n",
              "      <td></td>\n",
              "      <td></td>\n",
              "      <td></td>\n",
              "      <td></td>\n",
              "      <td></td>\n",
              "      <td></td>\n",
              "      <td></td>\n",
              "      <td></td>\n",
              "      <td>275.60</td>\n",
              "    </tr>\n",
              "    <tr>\n",
              "      <th>1823</th>\n",
              "      <td>1823</td>\n",
              "      <td></td>\n",
              "      <td></td>\n",
              "      <td></td>\n",
              "      <td></td>\n",
              "      <td></td>\n",
              "      <td></td>\n",
              "      <td></td>\n",
              "      <td></td>\n",
              "      <td>326.79</td>\n",
              "    </tr>\n",
              "    <tr>\n",
              "      <th>1824</th>\n",
              "      <td>1824</td>\n",
              "      <td></td>\n",
              "      <td></td>\n",
              "      <td></td>\n",
              "      <td></td>\n",
              "      <td></td>\n",
              "      <td></td>\n",
              "      <td></td>\n",
              "      <td></td>\n",
              "      <td>333.43</td>\n",
              "    </tr>\n",
              "    <tr>\n",
              "      <th>1825</th>\n",
              "      <td>1825</td>\n",
              "      <td>8.1</td>\n",
              "      <td>14.7</td>\n",
              "      <td>4.8</td>\n",
              "      <td>1021</td>\n",
              "      <td>84</td>\n",
              "      <td>1</td>\n",
              "      <td>4.8</td>\n",
              "      <td>9.4</td>\n",
              "      <td>245.53</td>\n",
              "    </tr>\n",
              "  </tbody>\n",
              "</table>\n",
              "<p>1826 rows × 10 columns</p>\n",
              "</div>\n",
              "      <button class=\"colab-df-convert\" onclick=\"convertToInteractive('df-8b781048-6a7a-4c6d-994d-a894000579fa')\"\n",
              "              title=\"Convert this dataframe to an interactive table.\"\n",
              "              style=\"display:none;\">\n",
              "        \n",
              "  <svg xmlns=\"http://www.w3.org/2000/svg\" height=\"24px\"viewBox=\"0 0 24 24\"\n",
              "       width=\"24px\">\n",
              "    <path d=\"M0 0h24v24H0V0z\" fill=\"none\"/>\n",
              "    <path d=\"M18.56 5.44l.94 2.06.94-2.06 2.06-.94-2.06-.94-.94-2.06-.94 2.06-2.06.94zm-11 1L8.5 8.5l.94-2.06 2.06-.94-2.06-.94L8.5 2.5l-.94 2.06-2.06.94zm10 10l.94 2.06.94-2.06 2.06-.94-2.06-.94-.94-2.06-.94 2.06-2.06.94z\"/><path d=\"M17.41 7.96l-1.37-1.37c-.4-.4-.92-.59-1.43-.59-.52 0-1.04.2-1.43.59L10.3 9.45l-7.72 7.72c-.78.78-.78 2.05 0 2.83L4 21.41c.39.39.9.59 1.41.59.51 0 1.02-.2 1.41-.59l7.78-7.78 2.81-2.81c.8-.78.8-2.07 0-2.86zM5.41 20L4 18.59l7.72-7.72 1.47 1.35L5.41 20z\"/>\n",
              "  </svg>\n",
              "      </button>\n",
              "      \n",
              "  <style>\n",
              "    .colab-df-container {\n",
              "      display:flex;\n",
              "      flex-wrap:wrap;\n",
              "      gap: 12px;\n",
              "    }\n",
              "\n",
              "    .colab-df-convert {\n",
              "      background-color: #E8F0FE;\n",
              "      border: none;\n",
              "      border-radius: 50%;\n",
              "      cursor: pointer;\n",
              "      display: none;\n",
              "      fill: #1967D2;\n",
              "      height: 32px;\n",
              "      padding: 0 0 0 0;\n",
              "      width: 32px;\n",
              "    }\n",
              "\n",
              "    .colab-df-convert:hover {\n",
              "      background-color: #E2EBFA;\n",
              "      box-shadow: 0px 1px 2px rgba(60, 64, 67, 0.3), 0px 1px 3px 1px rgba(60, 64, 67, 0.15);\n",
              "      fill: #174EA6;\n",
              "    }\n",
              "\n",
              "    [theme=dark] .colab-df-convert {\n",
              "      background-color: #3B4455;\n",
              "      fill: #D2E3FC;\n",
              "    }\n",
              "\n",
              "    [theme=dark] .colab-df-convert:hover {\n",
              "      background-color: #434B5C;\n",
              "      box-shadow: 0px 1px 3px 1px rgba(0, 0, 0, 0.15);\n",
              "      filter: drop-shadow(0px 1px 2px rgba(0, 0, 0, 0.3));\n",
              "      fill: #FFFFFF;\n",
              "    }\n",
              "  </style>\n",
              "\n",
              "      <script>\n",
              "        const buttonEl =\n",
              "          document.querySelector('#df-8b781048-6a7a-4c6d-994d-a894000579fa button.colab-df-convert');\n",
              "        buttonEl.style.display =\n",
              "          google.colab.kernel.accessAllowed ? 'block' : 'none';\n",
              "\n",
              "        async function convertToInteractive(key) {\n",
              "          const element = document.querySelector('#df-8b781048-6a7a-4c6d-994d-a894000579fa');\n",
              "          const dataTable =\n",
              "            await google.colab.kernel.invokeFunction('convertToInteractive',\n",
              "                                                     [key], {});\n",
              "          if (!dataTable) return;\n",
              "\n",
              "          const docLinkHtml = 'Like what you see? Visit the ' +\n",
              "            '<a target=\"_blank\" href=https://colab.research.google.com/notebooks/data_table.ipynb>data table notebook</a>'\n",
              "            + ' to learn more about interactive tables.';\n",
              "          element.innerHTML = '';\n",
              "          dataTable['output_type'] = 'display_data';\n",
              "          await google.colab.output.renderOutput(dataTable, element);\n",
              "          const docLink = document.createElement('div');\n",
              "          docLink.innerHTML = docLinkHtml;\n",
              "          element.appendChild(docLink);\n",
              "        }\n",
              "      </script>\n",
              "    </div>\n",
              "  </div>\n",
              "  "
            ],
            "text/plain": [
              "      index     T    TM    Tm     SLP   H   VV    V   VM   PM2.5\n",
              "0         0  14.9  21.6   8.8  1017.4  76  0.8  0.9  7.6  313.22\n",
              "1         1  14.7  21.6  10.2  1018.1  97  0.6  3.1  9.4  186.18\n",
              "2         2    15  16.8  13.6  1017.5  94  0.5  0.9  7.6   87.18\n",
              "3         3                                               151.84\n",
              "4         4                                               146.60\n",
              "...     ...   ...   ...   ...     ...  ..  ...  ...  ...     ...\n",
              "1821   1821   8.6  13.6   4.2  1019.6  83  0.6  3.3  7.6  240.07\n",
              "1822   1822                                               275.60\n",
              "1823   1823                                               326.79\n",
              "1824   1824                                               333.43\n",
              "1825   1825   8.1  14.7   4.8    1021  84    1  4.8  9.4  245.53\n",
              "\n",
              "[1826 rows x 10 columns]"
            ]
          },
          "metadata": {},
          "execution_count": 18
        }
      ]
    },
    {
      "cell_type": "code",
      "source": [],
      "metadata": {
        "colab": {
          "base_uri": "https://localhost:8080/",
          "height": 165
        },
        "id": "-Qs39x3LuXMB",
        "outputId": "b25fe4d2-122b-460d-bf11-18129bcfb19b"
      },
      "execution_count": null,
      "outputs": [
        {
          "output_type": "error",
          "ename": "NameError",
          "evalue": "ignored",
          "traceback": [
            "\u001b[0;31m---------------------------------------------------------------------------\u001b[0m",
            "\u001b[0;31mNameError\u001b[0m                                 Traceback (most recent call last)",
            "\u001b[0;32m<ipython-input-1-83243851819e>\u001b[0m in \u001b[0;36m<module>\u001b[0;34m()\u001b[0m\n\u001b[0;32m----> 1\u001b[0;31m \u001b[0mmf\u001b[0m\u001b[0;34m.\u001b[0m\u001b[0mshow\u001b[0m\u001b[0;34m(\u001b[0m\u001b[0;36m10\u001b[0m\u001b[0;34m)\u001b[0m\u001b[0;34m\u001b[0m\u001b[0;34m\u001b[0m\u001b[0m\n\u001b[0m",
            "\u001b[0;31mNameError\u001b[0m: name 'mf' is not defined"
          ]
        }
      ]
    },
    {
      "cell_type": "code",
      "metadata": {
        "id": "c91eV8Zk8yy1"
      },
      "source": [
        "mf=df.copy()\n",
        "a=len(mf)\n",
        "for (columnName, columnData) in mf.iteritems():\n",
        "  for i in range(len(mf)):\n",
        "    if (mf[columnName][i]=='') or (mf[columnName][i]=='-') :\n",
        "      mf.drop(i,inplace=True,axis=0)\n",
        "  mf.reset_index(inplace=True,drop=True)\n",
        "  mf[columnName]=pd.to_numeric(mf[columnName])\n",
        "mf.dropna(axis=0,how='any',inplace=True)\n",
        "mf.reset_index(inplace=True,drop=True)"
      ],
      "execution_count": null,
      "outputs": []
    },
    {
      "cell_type": "code",
      "metadata": {
        "colab": {
          "base_uri": "https://localhost:8080/"
        },
        "id": "4Hbgk1u2Tw9H",
        "outputId": "3ac98618-53d1-4922-af42-7c176afe2f07"
      },
      "source": [
        "mf.info()"
      ],
      "execution_count": null,
      "outputs": [
        {
          "output_type": "stream",
          "name": "stdout",
          "text": [
            "<class 'pandas.core.frame.DataFrame'>\n",
            "RangeIndex: 893 entries, 0 to 892\n",
            "Data columns (total 9 columns):\n",
            " #   Column  Non-Null Count  Dtype  \n",
            "---  ------  --------------  -----  \n",
            " 0   T       893 non-null    float64\n",
            " 1   TM      893 non-null    float64\n",
            " 2   Tm      893 non-null    float64\n",
            " 3   SLP     893 non-null    float64\n",
            " 4   H       893 non-null    int64  \n",
            " 5   VV      893 non-null    float64\n",
            " 6   V       893 non-null    float64\n",
            " 7   VM      893 non-null    float64\n",
            " 8   PM2.5   893 non-null    float64\n",
            "dtypes: float64(8), int64(1)\n",
            "memory usage: 62.9 KB\n"
          ]
        }
      ]
    },
    {
      "cell_type": "code",
      "metadata": {
        "id": "liSBUP-YgIQf"
      },
      "source": [
        "import seaborn as sns"
      ],
      "execution_count": null,
      "outputs": []
    },
    {
      "cell_type": "code",
      "metadata": {
        "id": "2TrsSSAqx2rl",
        "colab": {
          "base_uri": "https://localhost:8080/",
          "height": 1000
        },
        "outputId": "ff7d9edd-938e-4d20-dce9-fad61a6ec651"
      },
      "source": [
        "corrmat = mf.corr()\n",
        "top_corr_features = corrmat.index\n",
        "plt.figure(figsize=(20,20))\n",
        "g=sns.heatmap(mf[top_corr_features].corr(),annot=True,cmap=\"coolwarm\")"
      ],
      "execution_count": null,
      "outputs": [
        {
          "output_type": "display_data",
          "data": {
            "image/png": "[encoded data removed]",
            "text/plain": [
              "<Figure size 1440x1440 with 2 Axes>"
            ]
          },
          "metadata": {
            "needs_background": "light"
          }
        }
      ]
    },
    {
      "cell_type": "code",
      "metadata": {
        "id": "f7QSCpeegCn7",
        "colab": {
          "base_uri": "https://localhost:8080/",
          "height": 1000
        },
        "outputId": "3fa0dd8d-d728-4049-e75b-bbaf6fb5dcb6"
      },
      "source": [
        "corrmat = mf.corr()\n",
        "top_corr_features = corrmat.index\n",
        "plt.figure(figsize=(20,20))\n",
        "g=sns.heatmap(mf[top_corr_features].corr(),annot=True,cmap=\"Spectral\")"
      ],
      "execution_count": null,
      "outputs": [
        {
          "output_type": "display_data",
          "data": {
            "image/png": "[encoded data removed]",
            "text/plain": [
              "<Figure size 1440x1440 with 2 Axes>"
            ]
          },
          "metadata": {
            "needs_background": "light"
          }
        }
      ]
    },
    {
      "cell_type": "code",
      "metadata": {
        "id": "IBiZHPbeSxnY"
      },
      "source": [
        "from sklearn.model_selection import train_test_split\n",
        "from sklearn.ensemble import RandomForestRegressor\n",
        "import numpy as np\n",
        "import random"
      ],
      "execution_count": null,
      "outputs": []
    },
    {
      "cell_type": "code",
      "metadata": {
        "id": "KjGEjIwxYrvP"
      },
      "source": [
        "from sklearn.linear_model import LinearRegression"
      ],
      "execution_count": null,
      "outputs": []
    },
    {
      "cell_type": "code",
      "metadata": {
        "id": "HkBcAQQcOyeI"
      },
      "source": [
        "from sklearn.model_selection import cross_val_score"
      ],
      "execution_count": null,
      "outputs": []
    },
    {
      "cell_type": "code",
      "metadata": {
        "id": "sHfE-B1AWhYQ"
      },
      "source": [
        "X=mf.drop(\"PM2.5\",axis=1)\n",
        "y=mf['PM2.5']\n"
      ],
      "execution_count": null,
      "outputs": []
    },
    {
      "cell_type": "code",
      "metadata": {
        "id": "qKXjgle8Sbmz"
      },
      "source": [
        "# model_scores=[]\n",
        "# for i in set(np.random.randint(100000, size=(1000))):\n",
        "#   np.random.seed(i)\n",
        "#   X_train, X_test, y_train, y_test = train_test_split(X, y, test_size=0.2)\n",
        "#   model = RandomForestRegressor()\n",
        "#   model.fit(X_train, y_train)\n",
        "#   model_scores.append(model.score(X_test, y_test))\n",
        "# model_scores.index(max(model_scores))\n",
        "# BEST RANDOM SEED IS 93"
      ],
      "execution_count": null,
      "outputs": []
    },
    {
      "cell_type": "code",
      "metadata": {
        "id": "jjNXexLway4q"
      },
      "source": [
        "from sklearn.tree import DecisionTreeRegressor\n",
        "from sklearn import metrics"
      ],
      "execution_count": null,
      "outputs": []
    },
    {
      "cell_type": "code",
      "metadata": {
        "colab": {
          "base_uri": "https://localhost:8080/"
        },
        "id": "1GexIrHIeCWG",
        "outputId": "d104cc5d-2643-45de-8fad-70777d6f68ae"
      },
      "source": [
        "np.random.seed(42)\n",
        "X_train, X_test, y_train, y_test = train_test_split(X, y, test_size=0.2)\n",
        "model = RandomForestRegressor()\n",
        "model.fit(X_train, y_train)\n",
        "model.score(X_test, y_test)"
      ],
      "execution_count": null,
      "outputs": [
        {
          "output_type": "execute_result",
          "data": {
            "text/plain": [
              "0.7337581834300996"
            ]
          },
          "metadata": {},
          "execution_count": 39
        }
      ]
    },
    {
      "cell_type": "code",
      "metadata": {
        "id": "w4mC2yU1i6Lg"
      },
      "source": [
        "prediction=model.predict(X_test)"
      ],
      "execution_count": null,
      "outputs": []
    },
    {
      "cell_type": "code",
      "metadata": {
        "colab": {
          "base_uri": "https://localhost:8080/"
        },
        "id": "0wlVcMPq1gBf",
        "outputId": "8bf98c13-da54-470d-bd7a-7c3bbc189964"
      },
      "source": [
        "print('MAE:', metrics.mean_absolute_error(y_test, prediction))\n",
        "print('MSE:', metrics.mean_squared_error(y_test, prediction))\n",
        "print('RMSE:', np.sqrt(metrics.mean_squared_error(y_test, prediction)))"
      ],
      "execution_count": null,
      "outputs": [
        {
          "output_type": "stream",
          "name": "stdout",
          "text": [
            "MAE: 26.286922905027936\n",
            "MSE: 1508.9121466945253\n",
            "RMSE: 38.8447183886629\n"
          ]
        }
      ]
    },
    {
      "cell_type": "code",
      "metadata": {
        "id": "BcTijPYsiIfP"
      },
      "source": [
        "# model.score()"
      ],
      "execution_count": null,
      "outputs": []
    },
    {
      "cell_type": "code",
      "metadata": {
        "colab": {
          "base_uri": "https://localhost:8080/",
          "height": 282
        },
        "id": "b5HxRRwTitd3",
        "outputId": "093a5085-822f-4cbf-df87-7f5fb5989912"
      },
      "source": [
        "plt.scatter(y_test,prediction)"
      ],
      "execution_count": null,
      "outputs": [
        {
          "output_type": "execute_result",
          "data": {
            "text/plain": [
              "<matplotlib.collections.PathCollection at 0x7ff7c37e1550>"
            ]
          },
          "metadata": {},
          "execution_count": 43
        },
        {
          "output_type": "display_data",
          "data": {
            "image/png": "[encoded data removed]",
            "text/plain": [
              "<Figure size 432x288 with 1 Axes>"
            ]
          },
          "metadata": {
            "needs_background": "light"
          }
        }
      ]
    },
    {
      "cell_type": "code",
      "metadata": {
        "colab": {
          "base_uri": "https://localhost:8080/",
          "height": 331
        },
        "id": "d50PPNlifIf1",
        "outputId": "15380036-4cad-48f2-81c3-2816250fbbeb"
      },
      "source": [
        "mf.corr()"
      ],
      "execution_count": null,
      "outputs": [
        {
          "output_type": "execute_result",
          "data": {
            "text/html": [
              "\n",
              "  <div id=\"df-68e1e9c0-4682-4e48-84e5-128e6a99ee4e\">\n",
              "    <div class=\"colab-df-container\">\n",
              "      <div>\n",
              "<style scoped>\n",
              "    .dataframe tbody tr th:only-of-type {\n",
              "        vertical-align: middle;\n",
              "    }\n",
              "\n",
              "    .dataframe tbody tr th {\n",
              "        vertical-align: top;\n",
              "    }\n",
              "\n",
              "    .dataframe thead th {\n",
              "        text-align: right;\n",
              "    }\n",
              "</style>\n",
              "<table border=\"1\" class=\"dataframe\">\n",
              "  <thead>\n",
              "    <tr style=\"text-align: right;\">\n",
              "      <th></th>\n",
              "      <th>T</th>\n",
              "      <th>TM</th>\n",
              "      <th>Tm</th>\n",
              "      <th>SLP</th>\n",
              "      <th>H</th>\n",
              "      <th>VV</th>\n",
              "      <th>V</th>\n",
              "      <th>VM</th>\n",
              "      <th>PM2.5</th>\n",
              "    </tr>\n",
              "  </thead>\n",
              "  <tbody>\n",
              "    <tr>\n",
              "      <th>T</th>\n",
              "      <td>1.000000</td>\n",
              "      <td>0.963478</td>\n",
              "      <td>0.953708</td>\n",
              "      <td>-0.885825</td>\n",
              "      <td>-0.525027</td>\n",
              "      <td>0.655756</td>\n",
              "      <td>0.316325</td>\n",
              "      <td>0.278185</td>\n",
              "      <td>-0.531080</td>\n",
              "    </tr>\n",
              "    <tr>\n",
              "      <th>TM</th>\n",
              "      <td>0.963478</td>\n",
              "      <td>1.000000</td>\n",
              "      <td>0.888909</td>\n",
              "      <td>-0.830714</td>\n",
              "      <td>-0.599127</td>\n",
              "      <td>0.625040</td>\n",
              "      <td>0.292714</td>\n",
              "      <td>0.290911</td>\n",
              "      <td>-0.448932</td>\n",
              "    </tr>\n",
              "    <tr>\n",
              "      <th>Tm</th>\n",
              "      <td>0.953708</td>\n",
              "      <td>0.888909</td>\n",
              "      <td>1.000000</td>\n",
              "      <td>-0.916159</td>\n",
              "      <td>-0.303525</td>\n",
              "      <td>0.562631</td>\n",
              "      <td>0.309272</td>\n",
              "      <td>0.243862</td>\n",
              "      <td>-0.597467</td>\n",
              "    </tr>\n",
              "    <tr>\n",
              "      <th>SLP</th>\n",
              "      <td>-0.885825</td>\n",
              "      <td>-0.830714</td>\n",
              "      <td>-0.916159</td>\n",
              "      <td>1.000000</td>\n",
              "      <td>0.266983</td>\n",
              "      <td>-0.525383</td>\n",
              "      <td>-0.313265</td>\n",
              "      <td>-0.261172</td>\n",
              "      <td>0.593416</td>\n",
              "    </tr>\n",
              "    <tr>\n",
              "      <th>H</th>\n",
              "      <td>-0.525027</td>\n",
              "      <td>-0.599127</td>\n",
              "      <td>-0.303525</td>\n",
              "      <td>0.266983</td>\n",
              "      <td>1.000000</td>\n",
              "      <td>-0.530431</td>\n",
              "      <td>-0.340101</td>\n",
              "      <td>-0.364142</td>\n",
              "      <td>0.075068</td>\n",
              "    </tr>\n",
              "    <tr>\n",
              "      <th>VV</th>\n",
              "      <td>0.655756</td>\n",
              "      <td>0.625040</td>\n",
              "      <td>0.562631</td>\n",
              "      <td>-0.525383</td>\n",
              "      <td>-0.530431</td>\n",
              "      <td>1.000000</td>\n",
              "      <td>0.368989</td>\n",
              "      <td>0.315713</td>\n",
              "      <td>-0.616031</td>\n",
              "    </tr>\n",
              "    <tr>\n",
              "      <th>V</th>\n",
              "      <td>0.316325</td>\n",
              "      <td>0.292714</td>\n",
              "      <td>0.309272</td>\n",
              "      <td>-0.313265</td>\n",
              "      <td>-0.340101</td>\n",
              "      <td>0.368989</td>\n",
              "      <td>1.000000</td>\n",
              "      <td>0.823301</td>\n",
              "      <td>-0.322501</td>\n",
              "    </tr>\n",
              "    <tr>\n",
              "      <th>VM</th>\n",
              "      <td>0.278185</td>\n",
              "      <td>0.290911</td>\n",
              "      <td>0.243862</td>\n",
              "      <td>-0.261172</td>\n",
              "      <td>-0.364142</td>\n",
              "      <td>0.315713</td>\n",
              "      <td>0.823301</td>\n",
              "      <td>1.000000</td>\n",
              "      <td>-0.249754</td>\n",
              "    </tr>\n",
              "    <tr>\n",
              "      <th>PM2.5</th>\n",
              "      <td>-0.531080</td>\n",
              "      <td>-0.448932</td>\n",
              "      <td>-0.597467</td>\n",
              "      <td>0.593416</td>\n",
              "      <td>0.075068</td>\n",
              "      <td>-0.616031</td>\n",
              "      <td>-0.322501</td>\n",
              "      <td>-0.249754</td>\n",
              "      <td>1.000000</td>\n",
              "    </tr>\n",
              "  </tbody>\n",
              "</table>\n",
              "</div>\n",
              "      <button class=\"colab-df-convert\" onclick=\"convertToInteractive('df-68e1e9c0-4682-4e48-84e5-128e6a99ee4e')\"\n",
              "              title=\"Convert this dataframe to an interactive table.\"\n",
              "              style=\"display:none;\">\n",
              "        \n",
              "  <svg xmlns=\"http://www.w3.org/2000/svg\" height=\"24px\"viewBox=\"0 0 24 24\"\n",
              "       width=\"24px\">\n",
              "    <path d=\"M0 0h24v24H0V0z\" fill=\"none\"/>\n",
              "    <path d=\"M18.56 5.44l.94 2.06.94-2.06 2.06-.94-2.06-.94-.94-2.06-.94 2.06-2.06.94zm-11 1L8.5 8.5l.94-2.06 2.06-.94-2.06-.94L8.5 2.5l-.94 2.06-2.06.94zm10 10l.94 2.06.94-2.06 2.06-.94-2.06-.94-.94-2.06-.94 2.06-2.06.94z\"/><path d=\"M17.41 7.96l-1.37-1.37c-.4-.4-.92-.59-1.43-.59-.52 0-1.04.2-1.43.59L10.3 9.45l-7.72 7.72c-.78.78-.78 2.05 0 2.83L4 21.41c.39.39.9.59 1.41.59.51 0 1.02-.2 1.41-.59l7.78-7.78 2.81-2.81c.8-.78.8-2.07 0-2.86zM5.41 20L4 18.59l7.72-7.72 1.47 1.35L5.41 20z\"/>\n",
              "  </svg>\n",
              "      </button>\n",
              "      \n",
              "  <style>\n",
              "    .colab-df-container {\n",
              "      display:flex;\n",
              "      flex-wrap:wrap;\n",
              "      gap: 12px;\n",
              "    }\n",
              "\n",
              "    .colab-df-convert {\n",
              "      background-color: #E8F0FE;\n",
              "      border: none;\n",
              "      border-radius: 50%;\n",
              "      cursor: pointer;\n",
              "      display: none;\n",
              "      fill: #1967D2;\n",
              "      height: 32px;\n",
              "      padding: 0 0 0 0;\n",
              "      width: 32px;\n",
              "    }\n",
              "\n",
              "    .colab-df-convert:hover {\n",
              "      background-color: #E2EBFA;\n",
              "      box-shadow: 0px 1px 2px rgba(60, 64, 67, 0.3), 0px 1px 3px 1px rgba(60, 64, 67, 0.15);\n",
              "      fill: #174EA6;\n",
              "    }\n",
              "\n",
              "    [theme=dark] .colab-df-convert {\n",
              "      background-color: #3B4455;\n",
              "      fill: #D2E3FC;\n",
              "    }\n",
              "\n",
              "    [theme=dark] .colab-df-convert:hover {\n",
              "      background-color: #434B5C;\n",
              "      box-shadow: 0px 1px 3px 1px rgba(0, 0, 0, 0.15);\n",
              "      filter: drop-shadow(0px 1px 2px rgba(0, 0, 0, 0.3));\n",
              "      fill: #FFFFFF;\n",
              "    }\n",
              "  </style>\n",
              "\n",
              "      <script>\n",
              "        const buttonEl =\n",
              "          document.querySelector('#df-68e1e9c0-4682-4e48-84e5-128e6a99ee4e button.colab-df-convert');\n",
              "        buttonEl.style.display =\n",
              "          google.colab.kernel.accessAllowed ? 'block' : 'none';\n",
              "\n",
              "        async function convertToInteractive(key) {\n",
              "          const element = document.querySelector('#df-68e1e9c0-4682-4e48-84e5-128e6a99ee4e');\n",
              "          const dataTable =\n",
              "            await google.colab.kernel.invokeFunction('convertToInteractive',\n",
              "                                                     [key], {});\n",
              "          if (!dataTable) return;\n",
              "\n",
              "          const docLinkHtml = 'Like what you see? Visit the ' +\n",
              "            '<a target=\"_blank\" href=https://colab.research.google.com/notebooks/data_table.ipynb>data table notebook</a>'\n",
              "            + ' to learn more about interactive tables.';\n",
              "          element.innerHTML = '';\n",
              "          dataTable['output_type'] = 'display_data';\n",
              "          await google.colab.output.renderOutput(dataTable, element);\n",
              "          const docLink = document.createElement('div');\n",
              "          docLink.innerHTML = docLinkHtml;\n",
              "          element.appendChild(docLink);\n",
              "        }\n",
              "      </script>\n",
              "    </div>\n",
              "  </div>\n",
              "  "
            ],
            "text/plain": [
              "              T        TM        Tm  ...         V        VM     PM2.5\n",
              "T      1.000000  0.963478  0.953708  ...  0.316325  0.278185 -0.531080\n",
              "TM     0.963478  1.000000  0.888909  ...  0.292714  0.290911 -0.448932\n",
              "Tm     0.953708  0.888909  1.000000  ...  0.309272  0.243862 -0.597467\n",
              "SLP   -0.885825 -0.830714 -0.916159  ... -0.313265 -0.261172  0.593416\n",
              "H     -0.525027 -0.599127 -0.303525  ... -0.340101 -0.364142  0.075068\n",
              "VV     0.655756  0.625040  0.562631  ...  0.368989  0.315713 -0.616031\n",
              "V      0.316325  0.292714  0.309272  ...  1.000000  0.823301 -0.322501\n",
              "VM     0.278185  0.290911  0.243862  ...  0.823301  1.000000 -0.249754\n",
              "PM2.5 -0.531080 -0.448932 -0.597467  ... -0.322501 -0.249754  1.000000\n",
              "\n",
              "[9 rows x 9 columns]"
            ]
          },
          "metadata": {},
          "execution_count": 44
        }
      ]
    },
    {
      "cell_type": "code",
      "metadata": {
        "colab": {
          "base_uri": "https://localhost:8080/"
        },
        "id": "XB8zOX0kZZ_J",
        "outputId": "f1a0634b-a9d7-4dac-eef8-4bf25062cef1"
      },
      "source": [
        "cv_acc = cross_val_score(model, X, y, cv=5)\n",
        "print(f'The cross-validated accuracy is: {np.mean(cv_acc)*100:.2f}%')\n",
        "cv_acc"
      ],
      "execution_count": null,
      "outputs": [
        {
          "output_type": "stream",
          "name": "stdout",
          "text": [
            "The cross-validated accuracy is: 62.57%\n"
          ]
        },
        {
          "output_type": "execute_result",
          "data": {
            "text/plain": [
              "array([0.46285547, 0.72261322, 0.59210868, 0.64885152, 0.70210824])"
            ]
          },
          "metadata": {},
          "execution_count": 45
        }
      ]
    },
    {
      "cell_type": "code",
      "metadata": {
        "id": "xYzu-Vu5U_xq"
      },
      "source": [
        "# list(mf.iloc[180])"
      ],
      "execution_count": null,
      "outputs": []
    },
    {
      "cell_type": "code",
      "metadata": {
        "id": "PEqv0LKsUdIG"
      },
      "source": [
        "# model.predict(np.array([[14.4, 21.5, 5.5, 1021.0, 60.0, 1.8, 8.9, 18.3]]))"
      ],
      "execution_count": null,
      "outputs": []
    },
    {
      "cell_type": "code",
      "metadata": {
        "id": "rm3RW4uDRCH3"
      },
      "source": [
        "import pickle\n",
        "pickle.dump(model, open(\"AQI_random_forst_model.pkl\", \"wb\"))"
      ],
      "execution_count": null,
      "outputs": []
    },
    {
      "cell_type": "code",
      "metadata": {
        "id": "StCt5uxvPya7"
      },
      "source": [
        "# for_scores=[]\n",
        "# np.random.seed(93)\n",
        "# for i in range(1, 150):\n",
        "#     print(f\"Trying model with {i} estimators...\")\n",
        "#     clf = RandomForestRegressor(n_estimators=i).fit(X_train, y_train)\n",
        "#     for_scores.append(clf.score(X_test, y_test))\n",
        "#     print(f\"Model accuracy on test set: {clf.score(X_test, y_test) * 100:.2f}%\")\n",
        "#     print(\"\")"
      ],
      "execution_count": null,
      "outputs": []
    },
    {
      "cell_type": "code",
      "metadata": {
        "id": "YRBOaOpFXpht"
      },
      "source": [
        "from sklearn.model_selection import RandomizedSearchCV"
      ],
      "execution_count": null,
      "outputs": []
    },
    {
      "cell_type": "code",
      "metadata": {
        "id": "uDIfUWJorv-b"
      },
      "source": [
        "dff=mf.sample(frac=1).reset_index(drop=True)\n",
        "X=dff.drop(\"PM2.5\",axis=1)\n",
        "y=dff['PM2.5']\n"
      ],
      "execution_count": null,
      "outputs": []
    },
    {
      "cell_type": "code",
      "metadata": {
        "id": "lAaaNsig2zOw"
      },
      "source": [
        "#Randomized Search CV\n",
        "\n",
        "# Number of trees in random forest\n",
        "n_estimators = [int(x) for x in np.linspace(start = 100, stop = 1200, num = 24)]\n",
        "# Number of features to consider at every split\n",
        "max_features = ['auto', 'sqrt']\n",
        "# Maximum number of levels in tree\n",
        "max_depth = [int(x) for x in np.linspace(5, 30, num = 12)]\n",
        "# max_depth.append(None)\n",
        "# Minimum number of samples required to split a node\n",
        "min_samples_split = [2, 5, 10, 15, 100]\n",
        "# Minimum number of samples required at each leaf node\n",
        "min_samples_leaf = [1, 2, 5, 10]\n",
        "# Method of selecting samples for training each tree\n",
        "# bootstrap = [True, False]"
      ],
      "execution_count": null,
      "outputs": []
    },
    {
      "cell_type": "code",
      "metadata": {
        "colab": {
          "base_uri": "https://localhost:8080/"
        },
        "id": "wo22wf_y3Epj",
        "outputId": "45fd1375-4027-4ef9-c6ab-9e4e6ec89584"
      },
      "source": [
        "# Create the random grid\n",
        "random_grid = {'n_estimators': n_estimators,\n",
        "               'max_features': max_features,\n",
        "               'max_depth': max_depth,\n",
        "               'min_samples_split': min_samples_split,\n",
        "               'min_samples_leaf': min_samples_leaf}\n",
        "\n",
        "print(random_grid)"
      ],
      "execution_count": null,
      "outputs": [
        {
          "output_type": "stream",
          "name": "stdout",
          "text": [
            "{'n_estimators': [100, 147, 195, 243, 291, 339, 386, 434, 482, 530, 578, 626, 673, 721, 769, 817, 865, 913, 960, 1008, 1056, 1104, 1152, 1200], 'max_features': ['auto', 'sqrt'], 'max_depth': [5, 7, 9, 11, 14, 16, 18, 20, 23, 25, 27, 30], 'min_samples_split': [2, 5, 10, 15, 100], 'min_samples_leaf': [1, 2, 5, 10]}\n"
          ]
        }
      ]
    },
    {
      "cell_type": "code",
      "metadata": {
        "id": "qSFjZ05N3K70"
      },
      "source": [
        "# Use the random grid to search for best hyperparameters\n",
        "# First create the base model to tune\n",
        "rf = RandomForestRegressor()"
      ],
      "execution_count": null,
      "outputs": []
    },
    {
      "cell_type": "code",
      "metadata": {
        "id": "mrxOS-cJsfm6"
      },
      "source": [
        "random.seed(93)\n",
        "X_train, X_test, y_train, y_test = train_test_split(X, y, test_size=0.2)"
      ],
      "execution_count": null,
      "outputs": []
    },
    {
      "cell_type": "code",
      "metadata": {
        "id": "r6yID8Di3Pmy"
      },
      "source": [
        "# Random search of parameters, using 3 fold cross validation,\n",
        "# search across 100 different combinations\n",
        "rf_random = RandomizedSearchCV(estimator = rf, param_distributions = random_grid, n_iter = 10, cv = 5, verbose=2, random_state=93, n_jobs = -1)"
      ],
      "execution_count": null,
      "outputs": []
    },
    {
      "cell_type": "code",
      "metadata": {
        "id": "0lPhw6yJ33if"
      },
      "source": [
        "# rf_random.fit(X_train,y_train)\n",
        "# rf_random.best_params_\n",
        "# rf_random.best_score_\n",
        "# rf_random.score(X_test, y_test)"
      ],
      "execution_count": null,
      "outputs": []
    },
    {
      "cell_type": "code",
      "metadata": {
        "id": "VtiM9Fbm-r0V"
      },
      "source": [
        "# {'max_depth': 25,\n",
        "#  'max_features': 'auto',\n",
        "#  'min_samples_leaf': 1,\n",
        "#  'min_samples_split': 2,\n",
        "#  'n_estimators': 626}"
      ],
      "execution_count": null,
      "outputs": []
    },
    {
      "cell_type": "code",
      "metadata": {
        "id": "453pFDZGt7Z4"
      },
      "source": [
        "import pickle"
      ],
      "execution_count": null,
      "outputs": []
    },
    {
      "cell_type": "code",
      "metadata": {
        "colab": {
          "base_uri": "https://localhost:8080/"
        },
        "id": "eJLv90EKudNn",
        "outputId": "ed81b405-9c84-46ec-f8ba-38b88857a22e"
      },
      "source": [
        "model = RandomForestRegressor(max_depth= 25,\n",
        "max_features= 'auto',\n",
        "min_samples_leaf= 1,\n",
        "min_samples_split= 2,\n",
        "n_estimators= 626)\n",
        "model.fit(X_train, y_train)\n",
        "model.score(X_test, y_test)"
      ],
      "execution_count": null,
      "outputs": [
        {
          "output_type": "execute_result",
          "data": {
            "text/plain": [
              "0.7465432312328666"
            ]
          },
          "metadata": {},
          "execution_count": 60
        }
      ]
    },
    {
      "cell_type": "code",
      "metadata": {
        "colab": {
          "base_uri": "https://localhost:8080/"
        },
        "id": "9Di7ckuy_xrv",
        "outputId": "bb8f6e84-89eb-471c-8cee-269ccadda3b8"
      },
      "source": [
        "cv_acc = cross_val_score(model, X, y, cv=5)\n",
        "print(f'The cross-validated accuracy is: {np.mean(cv_acc)*100:.2f}%')\n",
        "cv_acc"
      ],
      "execution_count": null,
      "outputs": [
        {
          "output_type": "stream",
          "name": "stdout",
          "text": [
            "The cross-validated accuracy is: 72.31%\n"
          ]
        },
        {
          "output_type": "execute_result",
          "data": {
            "text/plain": [
              "array([0.74677819, 0.71657982, 0.73386197, 0.67054958, 0.74782023])"
            ]
          },
          "metadata": {},
          "execution_count": 61
        }
      ]
    },
    {
      "cell_type": "code",
      "metadata": {
        "id": "t0nG8ySrwEbY"
      },
      "source": [
        "pickle.dump(model, open(\"AQI_random_forst_RandomSearchCV.pkl\", \"wb\"))"
      ],
      "execution_count": null,
      "outputs": []
    }
  ]
}